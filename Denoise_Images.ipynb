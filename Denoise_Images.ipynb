{
 "cells": [
  {
   "cell_type": "markdown",
   "metadata": {},
   "source": [
    "Import mnist images and binarize"
   ]
  },
  {
   "cell_type": "code",
   "execution_count": 233,
   "metadata": {},
   "outputs": [],
   "source": [
    "import mnist\n",
    "import scipy.misc\n",
    "images = mnist.train_images()\n",
    "orig_images = images[0:20][:][:].astype(float)\n",
    "orig_images[orig_images<128] = -1\n",
    "orig_images[orig_images>127] = 1"
   ]
  },
  {
   "cell_type": "markdown",
   "metadata": {},
   "source": [
    "Read noise coordinates file and save in array flipvalues. Flip pixels as per noise coordinates"
   ]
  },
  {
   "cell_type": "code",
   "execution_count": 236,
   "metadata": {},
   "outputs": [],
   "source": [
    "import csv\n",
    "with open('SupplementaryAndSampleData/NoiseCoordinates.csv','r') as noisefile:\n",
    "          csvreader = csv.reader(noisefile)\n",
    "          next(csvreader)\n",
    "          flipvalues = []\n",
    "          for row in csvreader:\n",
    "              flipvalues.append([int(i) for i in row[1:]])\n",
    "            \n",
    "# flip pixels as indicated in NoiseCordinates.csv\n",
    "\n",
    "x = orig_images\n",
    "imagenum = 0\n",
    "for rownum in range(0,40,2):\n",
    "    for colnum in range(0,15):\n",
    "        x[imagenum][flipvalues[rownum][colnum]][flipvalues[rownum+1][colnum]] *= -1\n",
    "    imagenum+=1"
   ]
  },
  {
   "cell_type": "code",
   "execution_count": 308,
   "metadata": {},
   "outputs": [
    {
     "ename": "ValueError",
     "evalue": "'arr' does not have a suitable array shape for any mode.",
     "output_type": "error",
     "traceback": [
      "\u001b[1;31m---------------------------------------------------------------------------\u001b[0m",
      "\u001b[1;31mValueError\u001b[0m                                Traceback (most recent call last)",
      "\u001b[1;32m<ipython-input-308-090542fa06a9>\u001b[0m in \u001b[0;36m<module>\u001b[1;34m()\u001b[0m\n\u001b[0;32m      1\u001b[0m \u001b[1;31m# display first noisy image\u001b[0m\u001b[1;33m\u001b[0m\u001b[1;33m\u001b[0m\u001b[0m\n\u001b[1;32m----> 2\u001b[1;33m \u001b[0mscipy\u001b[0m\u001b[1;33m.\u001b[0m\u001b[0mmisc\u001b[0m\u001b[1;33m.\u001b[0m\u001b[0mtoimage\u001b[0m\u001b[1;33m(\u001b[0m\u001b[0mscipy\u001b[0m\u001b[1;33m.\u001b[0m\u001b[0mmisc\u001b[0m\u001b[1;33m.\u001b[0m\u001b[0mimresize\u001b[0m\u001b[1;33m(\u001b[0m\u001b[0mx\u001b[0m \u001b[1;33m*\u001b[0m \u001b[1;33m-\u001b[0m\u001b[1;36m1\u001b[0m \u001b[1;33m+\u001b[0m \u001b[1;36m256\u001b[0m\u001b[1;33m,\u001b[0m \u001b[1;36m10.\u001b[0m\u001b[1;33m)\u001b[0m\u001b[1;33m)\u001b[0m\u001b[1;33m\u001b[0m\u001b[0m\n\u001b[0m",
      "\u001b[1;32m~\\AppData\\Local\\Continuum\\anaconda3\\lib\\site-packages\\scipy\\misc\\pilutil.py\u001b[0m in \u001b[0;36mimresize\u001b[1;34m(arr, size, interp, mode)\u001b[0m\n\u001b[0;32m    478\u001b[0m \u001b[1;33m\u001b[0m\u001b[0m\n\u001b[0;32m    479\u001b[0m     \"\"\"\n\u001b[1;32m--> 480\u001b[1;33m     \u001b[0mim\u001b[0m \u001b[1;33m=\u001b[0m \u001b[0mtoimage\u001b[0m\u001b[1;33m(\u001b[0m\u001b[0marr\u001b[0m\u001b[1;33m,\u001b[0m \u001b[0mmode\u001b[0m\u001b[1;33m=\u001b[0m\u001b[0mmode\u001b[0m\u001b[1;33m)\u001b[0m\u001b[1;33m\u001b[0m\u001b[0m\n\u001b[0m\u001b[0;32m    481\u001b[0m     \u001b[0mts\u001b[0m \u001b[1;33m=\u001b[0m \u001b[0mtype\u001b[0m\u001b[1;33m(\u001b[0m\u001b[0msize\u001b[0m\u001b[1;33m)\u001b[0m\u001b[1;33m\u001b[0m\u001b[0m\n\u001b[0;32m    482\u001b[0m     \u001b[1;32mif\u001b[0m \u001b[0missubdtype\u001b[0m\u001b[1;33m(\u001b[0m\u001b[0mts\u001b[0m\u001b[1;33m,\u001b[0m \u001b[0mint\u001b[0m\u001b[1;33m)\u001b[0m\u001b[1;33m:\u001b[0m\u001b[1;33m\u001b[0m\u001b[0m\n",
      "\u001b[1;32m~\\AppData\\Local\\Continuum\\anaconda3\\lib\\site-packages\\scipy\\misc\\pilutil.py\u001b[0m in \u001b[0;36mtoimage\u001b[1;34m(arr, high, low, cmin, cmax, pal, mode, channel_axis)\u001b[0m\n\u001b[0;32m    287\u001b[0m                                 ((3 in shape) or (4 in shape)))\n\u001b[0;32m    288\u001b[0m     \u001b[1;32mif\u001b[0m \u001b[1;32mnot\u001b[0m \u001b[0mvalid\u001b[0m\u001b[1;33m:\u001b[0m\u001b[1;33m\u001b[0m\u001b[0m\n\u001b[1;32m--> 289\u001b[1;33m         raise ValueError(\"'arr' does not have a suitable array shape for \"\n\u001b[0m\u001b[0;32m    290\u001b[0m                          \"any mode.\")\n\u001b[0;32m    291\u001b[0m     \u001b[1;32mif\u001b[0m \u001b[0mlen\u001b[0m\u001b[1;33m(\u001b[0m\u001b[0mshape\u001b[0m\u001b[1;33m)\u001b[0m \u001b[1;33m==\u001b[0m \u001b[1;36m2\u001b[0m\u001b[1;33m:\u001b[0m\u001b[1;33m\u001b[0m\u001b[0m\n",
      "\u001b[1;31mValueError\u001b[0m: 'arr' does not have a suitable array shape for any mode."
     ]
    }
   ],
   "source": [
    "# display first noisy image\n",
    "scipy.misc.toimage(scipy.misc.imresize(x * -1 + 256, 10.))"
   ]
  },
  {
   "cell_type": "markdown",
   "metadata": {},
   "source": [
    "Read UpdateOrderCoordinates and save into dictionary orderdict"
   ]
  },
  {
   "cell_type": "code",
   "execution_count": 241,
   "metadata": {},
   "outputs": [],
   "source": [
    "import numpy as np\n",
    "with open('SupplementaryAndSampleData/UpdateOrderCoordinates.csv','r') as orderfile:\n",
    "          csvreader = csv.reader(orderfile)\n",
    "          next(csvreader)\n",
    "          orderdata = []\n",
    "          for row in csvreader:\n",
    "              orderdata.append([int(i) for i in row[1:]])\n",
    "orderdata = np.array(orderdata)\n",
    "\n",
    "# create dictionary where key = image+number and value = dictionary of {pixel:(row,col)} pairs\n",
    "orderdict = {}\n",
    "for row in range(0,40,2):\n",
    "    orderdict['image'+str(int(row/2))] = {}\n",
    "    for col in range(0,784):\n",
    "        orderdict['image'+str(int(row/2))][col] = (orderdata[row][col],orderdata[row+1][col])\n",
    "print(orderdict.keys())"
   ]
  },
  {
   "cell_type": "markdown",
   "metadata": {},
   "source": [
    "Read InitialParametersModel.csv into numpy array pidata"
   ]
  },
  {
   "cell_type": "code",
   "execution_count": 256,
   "metadata": {},
   "outputs": [
    {
     "name": "stdout",
     "output_type": "stream",
     "text": [
      "(28, 28)\n"
     ]
    }
   ],
   "source": [
    "with open('SupplementaryAndSampleData/InitialParametersModel.csv','r') as pifile:\n",
    "          csvreader = csv.reader(pifile)\n",
    "          pidata = []\n",
    "          for row in csvreader:\n",
    "              pidata.append([float(i) for i in row])\n",
    "pidata = np.array(pidata)\n",
    "print(pidata.shape)"
   ]
  },
  {
   "cell_type": "code",
   "execution_count": 245,
   "metadata": {
    "collapsed": true
   },
   "outputs": [],
   "source": [
    "# Function to return list of neighbours given indices of a pixel\n",
    "\n",
    "def get_neighbours(r,c):\n",
    "    neighbours = []\n",
    "    if (r == 0 and c == 0):\n",
    "        neighbours = [(r,c+1),(r+1,c)] \n",
    "    elif (r == 27 and c == 27):\n",
    "        neighbours = [(r-1,c),(r,c-1)]\n",
    "    elif (r == 27 and c == 0):\n",
    "        neighbours = [(r-1,c),(r,c+1)]\n",
    "    elif (r == 0 and c == 27):\n",
    "        neighbours = [(r,c-1),(r+1,c)]\n",
    "    elif (r == 0):\n",
    "        neighbours = [(r,c-1),(r,c+1),(r+1,c)] \n",
    "    elif (c == 0):\n",
    "        neighbours = [(r-1,c),(r+1,c),(r,c+1)]\n",
    "    elif (r == 27):\n",
    "        neighbours = [(r,c-1),(r,c+1),(r-1,c)]\n",
    "    elif (c == 27):\n",
    "        neighbours = [(r,c-1),(r-1,c),(r+1,c)]\n",
    "    else:\n",
    "        neighbours = [(r-1,c),(r+1,c),(r,c-1),(r,c+1)]\n",
    "    return neighbours"
   ]
  },
  {
   "cell_type": "code",
   "execution_count": 246,
   "metadata": {},
   "outputs": [],
   "source": [
    "# F\n",
    "\n",
    "def logqsum1(r,c,pi,theta):\n",
    "    neighbours = get_neighbours(r,c)\n",
    "    sum = 0\n",
    "    for (row,col) in neighbours:\n",
    "        sum += (theta * (2*pi[row][col] - 1))\n",
    "    return sum"
   ]
  },
  {
   "cell_type": "code",
   "execution_count": 247,
   "metadata": {
    "collapsed": true
   },
   "outputs": [],
   "source": [
    "def logqsum2(image,r,c,x,theta):\n",
    "    sum = theta * x[image][r][c]   \n",
    "    return sum"
   ]
  },
  {
   "cell_type": "code",
   "execution_count": 222,
   "metadata": {
    "collapsed": true
   },
   "outputs": [],
   "source": [
    "def get_expctlogphx(pi0,image,x,thetahh,thetahx):\n",
    "    expctlogphx = 0\n",
    "    for r in range(0,28):\n",
    "        for c in range(0,28):\n",
    "            sum1 = 0\n",
    "            neighbours = get_neighbours(r,c)\n",
    "            for (row,col) in neighbours:\n",
    "                sum1+= (thetahh*(2*pi0[r][c]-1)*(2*pi0[row][col]-1))\n",
    "            sum1 += (thetahx * (2*pi0[r][c] - 1) * x[image][r][c])\n",
    "            expctlogphx += sum1\n",
    "    return expctlogphx"
   ]
  },
  {
   "cell_type": "code",
   "execution_count": 224,
   "metadata": {},
   "outputs": [],
   "source": [
    "def get_expctlogq(pi0):\n",
    "    expctlogq = 0.0\n",
    "    epsilon = 10**(-10)\n",
    "    for r in range(0,28):\n",
    "        for c in range(0,28):\n",
    "            expctlogq += ((pi0[r][c]*np.log(pi0[r][c]+epsilon)) + ((1-pi0[r][c])*np.log((1-pi0[r][c])+epsilon)))\n",
    "    return expctlogq"
   ]
  },
  {
   "cell_type": "markdown",
   "metadata": {},
   "source": [
    "Compute variational free energy after each iteration using functions defined above. Compute denoised pixels for images 11 to 20."
   ]
  },
  {
   "cell_type": "code",
   "execution_count": 295,
   "metadata": {},
   "outputs": [
    {
     "name": "stdout",
     "output_type": "stream",
     "text": [
      "done\n"
     ]
    }
   ],
   "source": [
    "from copy import deepcopy\n",
    "thetahh = 0.8\n",
    "thetahx = 2.0\n",
    "vfe = np.zeros((20,11))\n",
    "denoised = np.zeros((28,560))\n",
    "for image in range(0,20):\n",
    "    pi = deepcopy(pidata)\n",
    "    for i in range(0,11):\n",
    "        expctlogq = get_expctlogq(pi)\n",
    "        expctlogphx = get_expctlogphx(pi,image,x,thetahh,thetahx)\n",
    "        energy  = expctlogq - expctlogphx\n",
    "        vfe[image][i] = energy\n",
    "        if i == 10:\n",
    "            break\n",
    "        for pixel in range(0,784):\n",
    "            r = orderdict['image'+str(image)][pixel][0]\n",
    "            c = orderdict['image'+str(image)][pixel][1]\n",
    "            logqi1 = logqsum1(r,c,pi,thetahh) + logqsum2(image,r,c,x,thetahx)\n",
    "            logqi_1 = logqsum1(r,c,pi,-thetahh) + logqsum2(image,r,c,x,-thetahx)\n",
    "            pi[r][c] = np.exp(logqi1)/(np.exp(logqi1) + np.exp(logqi_1))\n",
    "    pi[pi>0.5] = 1\n",
    "    pi[pi<=0.5] = 0\n",
    "    if image == 10:\n",
    "        denoised = pi\n",
    "    else:\n",
    "        if image>10:\n",
    "            denoised = np.hstack((denoised,pi))                                                                                                                                                                                                                                                                                   \n",
    "#print(vfe)\n",
    "np.savetxt('vfevalues.csv', vfe, delimiter=',', fmt='%s')\n",
    "np.savetxt('denoised.csv', denoised, delimiter=',', fmt='%s')\n",
    "print('done')"
   ]
  },
  {
   "cell_type": "code",
   "execution_count": 296,
   "metadata": {},
   "outputs": [
    {
     "data": {
      "image/png": "[encoded data removed]",
      "text/plain": [
       "<PIL.Image.Image image mode=L size=2800x280 at 0x2A7C5E65B70>"
      ]
     },
     "execution_count": 296,
     "metadata": {},
     "output_type": "execute_result"
    }
   ],
   "source": [
    "# print denoised images 11 to 20.\n",
    "scipy.misc.toimage(scipy.misc.imresize(denoised * -1 + 256, 10.))"
   ]
  },
  {
   "cell_type": "code",
   "execution_count": 306,
   "metadata": {},
   "outputs": [
    {
     "name": "stdout",
     "output_type": "stream",
     "text": [
      "0.0 1.0\n",
      "0.0007331378299120235 0.9117647058823529\n",
      "0.0007331378299120235 0.8901960784313725\n",
      "0.005278592375366569 0.796078431372549\n",
      "0.003812316715542522 0.5088235294117647\n",
      "0.003812316715542522 0.307843137254902\n",
      "0.0021994134897360706 0.2372549019607843\n",
      "0.0021994134897360706 0.2019607843137255\n",
      "0.17697947214076246 0.25392156862745097\n",
      "done\n"
     ]
    }
   ],
   "source": [
    "# Compute FPR and TPR\n",
    "thetahh = 0.8\n",
    "c = [5,3,2,1,0.6,0.4,0.35,0.3,0.1]\n",
    "for thetahx in c:\n",
    "    tp = fp = fn = tn = 0\n",
    "    for image in range(10,20):\n",
    "        pi = deepcopy(pidata)\n",
    "        for i in range(0,10):\n",
    "            for pixel in range(0,784):\n",
    "                r = orderdict['image'+str(image)][pixel][0]\n",
    "                c = orderdict['image'+str(image)][pixel][1]\n",
    "                logqi1 = logqsum1(r,c,pi,thetahh) + logqsum2(image,r,c,x,thetahx)\n",
    "                logqi_1 = logqsum1(r,c,pi,-thetahh) + logqsum2(image,r,c,x,-thetahx)\n",
    "                pi[r][c] = np.exp(logqi1)/(np.exp(logqi1) + np.exp(logqi_1))\n",
    "        pi[pi>0.5] = 1\n",
    "        pi[pi<=0.5] = -1\n",
    "        for row in range(0,28):\n",
    "            for col in range(0,28):\n",
    "                if pi[row][col] == 1 and orig_images[image][row][col] == 1:\n",
    "                    tp+=1\n",
    "                elif pi[row][col] == 1 and orig_images[image][row][col] == -1:\n",
    "                    fp+=1\n",
    "                elif pi[row][col] == -1 and orig_images[image][row][col] == 1:\n",
    "                    fn+=1\n",
    "                else:\n",
    "                    tn+=1\n",
    "    fpr = fp / (fp + tn)\n",
    "    tpr = tp / (tp + fn)\n",
    "    print(fpr,tpr)\n",
    "print('done')"
   ]
  },
  {
   "cell_type": "code",
   "execution_count": null,
   "metadata": {
    "collapsed": true
   },
   "outputs": [],
   "source": [
    "    "
   ]
  }
 ],
 "metadata": {
  "kernelspec": {
   "display_name": "Python 3",
   "language": "python",
   "name": "python3"
  },
  "language_info": {
   "codemirror_mode": {
    "name": "ipython",
    "version": 3
   },
   "file_extension": ".py",
   "mimetype": "text/x-python",
   "name": "python",
   "nbconvert_exporter": "python",
   "pygments_lexer": "ipython3",
   "version": "3.6.3"
  }
 },
 "nbformat": 4,
 "nbformat_minor": 2
}
